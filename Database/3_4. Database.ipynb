{
 "cells": [
  {
   "cell_type": "markdown",
   "id": "8cad0bd1",
   "metadata": {},
   "source": [
    "    mysql -u root -p  #-u --> option (user) -p --> password\n",
    "    password: (enter)\n",
    "    \n",
    "    mysql shell \n",
    "    \n",
    "    and enter bcz the present password of root is empty "
   ]
  },
  {
   "cell_type": "markdown",
   "id": "81714383",
   "metadata": {},
   "source": [
    "##### Data Types in Mysql"
   ]
  },
  {
   "cell_type": "markdown",
   "id": "ddeb75c7",
   "metadata": {},
   "source": [
    "    create table table_name(col_name1 datatype, col_name2 datatype, ......)"
   ]
  },
  {
   "cell_type": "markdown",
   "id": "19b171b4",
   "metadata": {},
   "source": [
    "    Student \n",
    "    \n",
    "        1. sid\n",
    "        2. name\n",
    "        3. age\n",
    "        4. course\n",
    "        \n",
    "        \n",
    "    Hackerrank SQL questions...."
   ]
  },
  {
   "cell_type": "markdown",
   "id": "5b636b15",
   "metadata": {},
   "source": [
    "    char --> fix\n",
    "    varchar --> variable\n",
    "    \n",
    "    address char(100)             address varchar(100)\n",
    "    A-47, Malviya Nagar           A-47, Malviya Nagar\n",
    "    \n",
    "    100-18 = 82                   100-18 = 82(it will release 82 char to give other people\n",
    "    (Useless)                              to use)\n",
    "     It will not \n",
    "     release "
   ]
  },
  {
   "cell_type": "code",
   "execution_count": 1,
   "id": "6edc31b8",
   "metadata": {},
   "outputs": [
    {
     "data": {
      "text/plain": [
       "82"
      ]
     },
     "execution_count": 1,
     "metadata": {},
     "output_type": "execute_result"
    }
   ],
   "source": [
    "100-18"
   ]
  },
  {
   "cell_type": "markdown",
   "id": "8142ca96",
   "metadata": {},
   "source": [
    "### Aggregate Functions\n",
    "\n",
    "    1. avg\n",
    "    2. count --> counting number of not null rows/column\n",
    "    3. max\n",
    "    4. min\n",
    "    5. sum"
   ]
  },
  {
   "cell_type": "markdown",
   "id": "c189643d",
   "metadata": {},
   "source": [
    "    #### Fees Table \n",
    "    \n",
    "        Fid --> primary key\n",
    "        Sid --> foreign key --> student\n",
    "        fees \n",
    "        paid\n",
    "        discount\n",
    "        \n",
    "        \n",
    "    #### Address Table\n",
    "        \n",
    "        Aid --> primary key \n",
    "        Sid --> Foreign key \n",
    "        street\n",
    "        city\n",
    "        state"
   ]
  },
  {
   "cell_type": "code",
   "execution_count": null,
   "id": "bf2db1fc",
   "metadata": {},
   "outputs": [],
   "source": []
  }
 ],
 "metadata": {
  "kernelspec": {
   "display_name": "Python 3",
   "language": "python",
   "name": "python3"
  },
  "language_info": {
   "codemirror_mode": {
    "name": "ipython",
    "version": 3
   },
   "file_extension": ".py",
   "mimetype": "text/x-python",
   "name": "python",
   "nbconvert_exporter": "python",
   "pygments_lexer": "ipython3",
   "version": "3.8.8"
  }
 },
 "nbformat": 4,
 "nbformat_minor": 5
}
