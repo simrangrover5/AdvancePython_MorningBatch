{
 "cells": [
  {
   "cell_type": "markdown",
   "id": "8cad0bd1",
   "metadata": {},
   "source": [
    "    mysql -u root -p  #-u --> option (user) -p --> password\n",
    "    password: (enter)\n",
    "    \n",
    "    mysql shell \n",
    "    \n",
    "    and enter bcz the present password of root is empty "
   ]
  },
  {
   "cell_type": "markdown",
   "id": "81714383",
   "metadata": {},
   "source": [
    "##### Data Types in Mysql"
   ]
  },
  {
   "cell_type": "markdown",
   "id": "ddeb75c7",
   "metadata": {},
   "source": [
    "    create table table_name(col_name1 datatype, col_name2 datatype, ......)"
   ]
  },
  {
   "cell_type": "markdown",
   "id": "19b171b4",
   "metadata": {},
   "source": [
    "    Student \n",
    "    \n",
    "        1. sid\n",
    "        2. name\n",
    "        3. age\n",
    "        4. course\n",
    "        \n",
    "        \n",
    "    Hackerrank SQL questions...."
   ]
  },
  {
   "cell_type": "code",
   "execution_count": null,
   "id": "3f03190c",
   "metadata": {},
   "outputs": [],
   "source": []
  }
 ],
 "metadata": {
  "kernelspec": {
   "display_name": "Python 3",
   "language": "python",
   "name": "python3"
  },
  "language_info": {
   "codemirror_mode": {
    "name": "ipython",
    "version": 3
   },
   "file_extension": ".py",
   "mimetype": "text/x-python",
   "name": "python",
   "nbconvert_exporter": "python",
   "pygments_lexer": "ipython3",
   "version": "3.8.8"
  }
 },
 "nbformat": 4,
 "nbformat_minor": 5
}
