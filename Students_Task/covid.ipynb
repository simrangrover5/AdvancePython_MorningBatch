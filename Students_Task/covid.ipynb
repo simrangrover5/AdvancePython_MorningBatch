{
 "cells": [
  {
   "cell_type": "code",
   "execution_count": 1,
   "metadata": {},
   "outputs": [],
   "source": [
    "file = open(\"active-cases-by-stat-india-covid-19-analysis-QueryResult.csv\")\n",
    "data = []\n",
    "for i in file :\n",
    "    data.append(i[:-1].split(\",\"))"
   ]
  },
  {
   "cell_type": "code",
   "execution_count": 4,
   "metadata": {},
   "outputs": [],
   "source": [
    "import pymysql as sql\n",
    "db = sql.connect(host=\"localhost\", port=3306, user='root', password='', database=\"covid\")\n",
    "cursor = db.cursor()"
   ]
  },
  {
   "cell_type": "code",
   "execution_count": 5,
   "metadata": {},
   "outputs": [
    {
     "data": {
      "text/plain": [
       "0"
      ]
     },
     "execution_count": 5,
     "metadata": {},
     "output_type": "execute_result"
    }
   ],
   "source": [
    "cursor.execute('CREATE TABLE COVID_DATA (state_name nvarchar(50), today int, yesterday int, case_variance int, growth_percentage float)')"
   ]
  },
  {
   "cell_type": "code",
   "execution_count": 6,
   "metadata": {},
   "outputs": [
    {
     "data": {
      "text/plain": [
       "[['state_name', 'today', 'yesterday', 'case_variance', 'growth_percentage'],\n",
       " ['Jammu and Kashmir', '37302', '34567', '2735', '0.07332046539059568'],\n",
       " ['Himachal Pradesh', '23572', '21788', '1784', '0.07568301374512133'],\n",
       " ['Punjab', '61935', '60709', '1226', '0.01979494631468475'],\n",
       " ['Chandigarh', '8170', '7943', '227', '0.027784577723378213'],\n",
       " ['Uttarakhand', '56627', '55436', '1191', '0.021032369717625867'],\n",
       " ['Haryana', '108830', '104722', '4108', '0.03774694477625655'],\n",
       " ['Delhi', '90419', '89592', '827', '0.009146307745053584'],\n",
       " ['Rajasthan', '197045', '194371', '2674', '0.013570504199548326'],\n",
       " ['Uttar Pradesh', '272568', '285832', '-13264', '-0.04866308590883743'],\n",
       " ['Bihar', '110431', '107668', '2763', '0.02502014832791517'],\n",
       " ['Sikkim', '1930', '1723', '207', '0.10725388601036269'],\n",
       " ['Arunachal Pradesh', '1632', '1536', '96', '0.058823529411764705'],\n",
       " ['Nagaland', '1798', '1584', '214', '0.11902113459399333'],\n",
       " ['Manipur', '2391', '2071', '320', '0.13383521539104978'],\n",
       " ['Mizoram', '1609', '1427', '182', '0.11311373523927906'],\n",
       " ['Tripura', '1905', '1725', '180', '0.09448818897637795'],\n",
       " ['Meghalaya', '2019', '1884', '135', '0.06686478454680535'],\n",
       " ['Assam', '29407', '27824', '1583', '0.05383072057673343'],\n",
       " ['West Bengal', '120946', '119961', '985', '0.008144130438377457'],\n",
       " ['Jharkhand', '59707', '59675', '32', '0.0005359505585609727'],\n",
       " ['Odisha', '67437', '65400', '2037', '0.030205970016459808'],\n",
       " ['Chhattisgarh', '124459', '120977', '3482', '0.02797708482311444'],\n",
       " ['Madhya Pradesh', '86639', '85750', '889', '0.010260967924375858'],\n",
       " ['Gujarat', '148297', '147499', '798', '0.005381093346460144'],\n",
       " ['Dadra and Nagar Haveli and Daman and Diu',\n",
       "  '1606',\n",
       "  '1670',\n",
       "  '-64',\n",
       "  '-0.039850560398505604'],\n",
       " ['Maharashtra', '644068', '659013', '-14945', '-0.023204071619766856'],\n",
       " ['Andhra Pradesh', '159597', '151852', '7745', '0.048528481111800345'],\n",
       " ['Karnataka', '464383', '444754', '19629', '0.04226898917488366'],\n",
       " ['Goa', '26731', '25839', '892', '0.03336949609068123'],\n",
       " ['Lakshadweep', '1165', '1206', '-41', '-0.0351931330472103'],\n",
       " ['Kerala', '357215', '346230', '10985', '0.030751788138795963'],\n",
       " ['Tamil Nadu', '125230', '123258', '1972', '0.015747025473129443'],\n",
       " ['Puducherry', '10849', '10614', '235', '0.021660982579039544'],\n",
       " ['Andaman and Nicobar Islands', '232', '230', '2', '0.008620689655172414'],\n",
       " ['Telangana', '77704', '79520', '-1816', '-0.02337074024503243'],\n",
       " ['Ladakh', '1374', '1283', '91', '0.06622998544395925']]"
      ]
     },
     "execution_count": 6,
     "metadata": {},
     "output_type": "execute_result"
    }
   ],
   "source": [
    "data"
   ]
  },
  {
   "cell_type": "code",
   "execution_count": 7,
   "metadata": {},
   "outputs": [
    {
     "name": "stdout",
     "output_type": "stream",
     "text": [
      "\n",
      " Data inserted successfully.....\n",
      "\n",
      " Data inserted successfully.....\n",
      "\n",
      " Data inserted successfully.....\n",
      "\n",
      " Data inserted successfully.....\n",
      "\n",
      " Data inserted successfully.....\n",
      "\n",
      " Data inserted successfully.....\n",
      "\n",
      " Data inserted successfully.....\n",
      "\n",
      " Data inserted successfully.....\n",
      "\n",
      " Data inserted successfully.....\n",
      "\n",
      " Data inserted successfully.....\n",
      "\n",
      " Data inserted successfully.....\n",
      "\n",
      " Data inserted successfully.....\n",
      "\n",
      " Data inserted successfully.....\n",
      "\n",
      " Data inserted successfully.....\n",
      "\n",
      " Data inserted successfully.....\n",
      "\n",
      " Data inserted successfully.....\n",
      "\n",
      " Data inserted successfully.....\n",
      "\n",
      " Data inserted successfully.....\n",
      "\n",
      " Data inserted successfully.....\n",
      "\n",
      " Data inserted successfully.....\n",
      "\n",
      " Data inserted successfully.....\n",
      "\n",
      " Data inserted successfully.....\n",
      "\n",
      " Data inserted successfully.....\n",
      "\n",
      " Data inserted successfully.....\n",
      "\n",
      " Data inserted successfully.....\n",
      "\n",
      " Data inserted successfully.....\n",
      "\n",
      " Data inserted successfully.....\n",
      "\n",
      " Data inserted successfully.....\n",
      "\n",
      " Data inserted successfully.....\n",
      "\n",
      " Data inserted successfully.....\n",
      "\n",
      " Data inserted successfully.....\n",
      "\n",
      " Data inserted successfully.....\n",
      "\n",
      " Data inserted successfully.....\n",
      "\n",
      " Data inserted successfully.....\n",
      "\n",
      " Data inserted successfully.....\n",
      "\n",
      " Data inserted successfully.....\n"
     ]
    }
   ],
   "source": [
    "for a,b,c,d,e in data[1:]:\n",
    "    cmd = f\"insert into covid_data(state_name, today, yesterday, case_variance, growth_percentage) values('{a}', {b}, {c}, {d}, {e})\"\n",
    "    cursor.execute(cmd)\n",
    "    db.commit()  # permanently save\n",
    "    print(\"\\n Data inserted successfully.....\")"
   ]
  },
  {
   "cell_type": "code",
   "execution_count": null,
   "metadata": {},
   "outputs": [],
   "source": []
  },
  {
   "cell_type": "code",
   "execution_count": null,
   "metadata": {},
   "outputs": [],
   "source": []
  }
 ],
 "metadata": {
  "kernelspec": {
   "display_name": "Python 3",
   "language": "python",
   "name": "python3"
  },
  "language_info": {
   "codemirror_mode": {
    "name": "ipython",
    "version": 3
   },
   "file_extension": ".py",
   "mimetype": "text/x-python",
   "name": "python",
   "nbconvert_exporter": "python",
   "pygments_lexer": "ipython3",
   "version": "3.8.5"
  }
 },
 "nbformat": 4,
 "nbformat_minor": 4
}
