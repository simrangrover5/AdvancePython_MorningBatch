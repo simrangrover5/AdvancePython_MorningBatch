{
 "cells": [
  {
   "cell_type": "code",
   "execution_count": null,
   "metadata": {},
   "outputs": [],
   "source": [
    "import sqlalchemy\n",
    "import matplotlib.pyplot as plt\n"
   ]
  },
  {
   "cell_type": "code",
   "execution_count": null,
   "metadata": {},
   "outputs": [],
   "source": [
    "engine = sqlalchemy.create_engine(\"mysql://root@localhost:3306/work\")"
   ]
  },
  {
   "cell_type": "code",
   "execution_count": null,
   "metadata": {},
   "outputs": [],
   "source": [
    "%load_ext sql"
   ]
  },
  {
   "cell_type": "code",
   "execution_count": null,
   "metadata": {},
   "outputs": [],
   "source": [
    "%sql mysql://root@localhost:3306/work"
   ]
  },
  {
   "cell_type": "code",
   "execution_count": null,
   "metadata": {},
   "outputs": [],
   "source": [
    "%%timeit\n",
    "%%writefile filename"
   ]
  },
  {
   "cell_type": "code",
   "execution_count": null,
   "metadata": {},
   "outputs": [],
   "source": [
    "%sql select * from student;"
   ]
  },
  {
   "cell_type": "code",
   "execution_count": null,
   "metadata": {},
   "outputs": [],
   "source": [
    "db = sql.connect(host=\"localhost\", port=3306, user='root', password='', database=\"work\")\n",
    "cursor = db.cursor()"
   ]
  },
  {
   "cell_type": "code",
   "execution_count": null,
   "metadata": {},
   "outputs": [],
   "source": [
    "while(1):\n",
    "    print(\"\\n1:-select\\n2:-insert\\n3:-update\\n4:-query\\n5:-exit\")\n",
    "    n=int(input(\"enter a choice :-\"))\n",
    "    if n==1:\n",
    "        db = sql.connect(host=\"localhost\", port=3306, user='root', password='', database=\"work\")\n",
    "        cursor = db.cursor()\n",
    "        try:\n",
    "            cursor.execute(f'select * from student')\n",
    "        except Exceptiontion as error:\n",
    "            print(f'\\n {error}')\n",
    "        else:\n",
    "            data = cursor.fetchall()\n",
    "            for value in data:\n",
    "                print(*value, sep=\"\\t|\\t\")\n",
    "        db.close()\n",
    "        break\n",
    "    elif n==2:\n",
    "        db = sql.connect(host=\"localhost\", port=3306, user='root', password='', database=\"work\")\n",
    "        cursor = db.cursor()\n",
    "        while input(\"\\n Enter any key to continue inserting : \"):\n",
    "            name = input(\"\\n Name : \")\n",
    "            course = input(\"\\n Course : \")\n",
    "            age = int(input(\"\\n Age : \"))\n",
    "            cmd = f\"insert into student(name, course, age) values('{name}', '{course}', {age})\"\n",
    "            cursor.execute(cmd)\n",
    "            db.commit()  # permanently save\n",
    "            print(\"\\n Data inserted successfully.....\")\n",
    "        db.close()\n",
    "        break\n",
    "    elif n==3:\n",
    "        db = sql.connect(host=\"localhost\", port=3306, user='root', password='', database=\"work\")\n",
    "        cursor = db.cursor()\n",
    "        while input(\"\\n Enter any key to continue inserting : \"):\n",
    "            u=input(\"what you upadte\")\n",
    "            k=input(\"for upadted\")\n",
    "            c=int(input(\"entere a sid\"))\n",
    "            cmd=f\"update student set {u}='{k}' where sid={c} \"\n",
    "            cursor.execute(cmd) \n",
    "            db.commit()\n",
    "        db.close()\n",
    "        break\n",
    "    elif n==4:\n",
    "        db = sql.connect(host=\"localhost\", port=3306, user='root', password='', database=\"work\")\n",
    "        cursor = db.cursor()\n",
    "        q=input(\"enter a query\")\n",
    "        cursor.execute(q)\n",
    "        db.commit()\n",
    "    else:\n",
    "        break\n",
    "        \n",
    "        \n",
    "    \n",
    "        \n",
    "        \n",
    "        \n",
    "        \n",
    "        \n",
    "        "
   ]
  },
  {
   "cell_type": "code",
   "execution_count": null,
   "metadata": {},
   "outputs": [],
   "source": [
    "def sel():\n",
    "    ch=input(\"enter a tbale name\")\n",
    "    db = sql.connect(host=\"localhost\", port=3306, user='root', password='', database=\"work\")\n",
    "    cursor = db.cursor()\n",
    "    try:\n",
    "        cursor.execute(f'select * from {ch}')\n",
    "    except Exceptiontion as error:\n",
    "        print(f'\\n {error}')\n",
    "    else:\n",
    "        data = cursor.fetchall()\n",
    "        for value in data:\n",
    "            print(*value, sep=\"\\t|\\t\")\n",
    "    db.close()"
   ]
  },
  {
   "cell_type": "code",
   "execution_count": null,
   "metadata": {},
   "outputs": [],
   "source": [
    "def ins():\n",
    "        db = sql.connect(host=\"localhost\", port=3306, user='root', password='', database=\"work\")\n",
    "        cursor = db.cursor()\n",
    "        while input(\"\\n Enter any key to continue inserting : \"):\n",
    "            sid = int(input(\"\\n sid : \"))\n",
    "            fees = int(input(\"\\n fees : \"))\n",
    "            discount = int(input(\"\\n discount: \"))\n",
    "            paid = int(input(\"\\n paid : \"))\n",
    "            cmd = f\"insert into fees(fid, sid, fees, discount,paid) values({sid}, {fees},{discount},{paid})\"\n",
    "            cursor.execute(cmd)\n",
    "            db.commit() \n",
    "            print(\"\\n Data inserted successfully.....\")\n",
    "        db.close()\n",
    "    "
   ]
  },
  {
   "cell_type": "code",
   "execution_count": null,
   "metadata": {},
   "outputs": [],
   "source": [
    "ins()\n"
   ]
  },
  {
   "cell_type": "code",
   "execution_count": null,
   "metadata": {},
   "outputs": [],
   "source": [
    "sel()"
   ]
  },
  {
   "cell_type": "code",
   "execution_count": null,
   "metadata": {},
   "outputs": [],
   "source": [
    "def update():\n",
    "    ch=input(\"enetr a table\")\n",
    "    db = sql.connect(host=\"localhost\", port=3306, user='root', password='', database=\"work\")\n",
    "    cursor = db.cursor()\n",
    "    while input(\"\\n Enter any key to continue inserting : \"):\n",
    "        u=input(\"what you upadte\")\n",
    "        k=input(\"for upadted\")\n",
    "        c=int(input(\"entere a sid\"))\n",
    "        cmd=f\"update {ch} set {u}='{k}' where sid={c} \"\n",
    "        cursor.execute(cmd) \n",
    "        db.commit()\n",
    "    db.close()"
   ]
  },
  {
   "cell_type": "code",
   "execution_count": null,
   "metadata": {},
   "outputs": [],
   "source": [
    "update()"
   ]
  },
  {
   "cell_type": "code",
   "execution_count": null,
   "metadata": {},
   "outputs": [],
   "source": [
    "sel()"
   ]
  },
  {
   "cell_type": "code",
   "execution_count": null,
   "metadata": {},
   "outputs": [],
   "source": [
    "def student():\n",
    "    while(1):\n",
    "        print(\"\\n1:-select\\n2:-insert\\n3:-update\\n4:-query\\n5:-exit\")\n",
    "        n=int(input(\"enter a choice :-\"))\n",
    "        if n==1:\n",
    "            sel()\n",
    "        elif n==2:\n",
    "            db = sql.connect(host=\"localhost\", port=3306, user='root', password='', database=\"work\")\n",
    "            cursor = db.cursor()\n",
    "            while input(\"\\n Enter any key to continue inserting : \"):\n",
    "                name = input(\"\\n Name : \")\n",
    "                course = input(\"\\n Course : \")\n",
    "                age = int(input(\"\\n Age : \"))\n",
    "                cmd = f\"insert into student(name, course, age) values('{name}', '{course}', {age})\"\n",
    "                cursor.execute(cmd)\n",
    "                db.commit()  # permanently save\n",
    "                print(\"\\n Data inserted successfully.....\")\n",
    "            db.close()\n",
    "        elif n==3:\n",
    "            update()\n",
    "        elif n==4:\n",
    "            db = sql.connect(host=\"localhost\", port=3306, user='root', password='', database=\"work\")\n",
    "            cursor = db.cursor()\n",
    "            cmd=input(\"enter a query\")\n",
    "            cursor.execute(cmd)\n",
    "            print(\"\\n Data  successfully.....\")\n",
    "        else:\n",
    "            break\n",
    "    "
   ]
  },
  {
   "cell_type": "code",
   "execution_count": null,
   "metadata": {},
   "outputs": [],
   "source": [
    "print(\"welcome to my world\".center(80, \"*\"))\n",
    "\n",
    "while(1):\n",
    "    print(\"\\n1:-student\\n2:-fees\\n3:-exit\")\n",
    "    n=int(input(\"enter your choice\"))\n",
    "    if n==1:\n",
    "        student()\n",
    "    elif n==2:\n",
    "        fees()\n",
    "    else:\n",
    "        break\n",
    "\n",
    "                \n",
    "        \n",
    "    "
   ]
  },
  {
   "cell_type": "code",
   "execution_count": null,
   "metadata": {},
   "outputs": [],
   "source": []
  }
 ],
 "metadata": {
  "kernelspec": {
   "display_name": "Python 3",
   "language": "python",
   "name": "python3"
  },
  "language_info": {
   "codemirror_mode": {
    "name": "ipython",
    "version": 3
   },
   "file_extension": ".py",
   "mimetype": "text/x-python",
   "name": "python",
   "nbconvert_exporter": "python",
   "pygments_lexer": "ipython3",
   "version": "3.8.8"
  }
 },
 "nbformat": 4,
 "nbformat_minor": 4
}
