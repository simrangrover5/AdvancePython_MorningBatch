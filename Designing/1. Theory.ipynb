{
 "cells": [
  {
   "cell_type": "markdown",
   "source": [
    "### 3 Types of Languages \n",
    "\n",
    "    1. Programming Language\n",
    "        Language which are used to perform some task by machine\n",
    "        java, c, c++, python\n",
    "        \n",
    "    2. Scripting Language\n",
    "        Client - Server Architecture\n",
    "        php, js, python, .net\n",
    "        \n",
    "    3. Markup Language\n",
    "        html, xml\n",
    "        HTML --> Hyper Text Markup Language --> Design\n",
    "        XML --> Extensible Markup Language --> Storage\n",
    "            You can create your own tags"
   ],
   "metadata": {}
  },
  {
   "cell_type": "markdown",
   "source": [
    "### HTML \n",
    "\n",
    "    Hyper Text Markup Language \n",
    "    \n",
    "        files --> .html\n",
    "        app --> html file \n",
    "        \n",
    "    Tags \n",
    "    \n",
    "        opening tag --> <tagname>\n",
    "        closing tag --> </tagname> "
   ],
   "metadata": {}
  },
  {
   "cell_type": "markdown",
   "source": [
    "### DOM \r\n",
    "    Document Object Model"
   ],
   "metadata": {}
  },
  {
   "cell_type": "markdown",
   "source": [
    "    Every tag as its properties --> attributes \r\n",
    "        P tag property --> Show in new line"
   ],
   "metadata": {}
  },
  {
   "cell_type": "markdown",
   "source": [
    "### CSS\r\n",
    "        Cascading Style Sheet\r\n",
    "            We can apply properties \r\n",
    "            It is used to decorate the html content\r\n",
    "\r\n",
    "    There are 3 types of CSS\r\n",
    "\r\n",
    "        1. Inline\r\n",
    "            <h1 style='color:red'>\r\n",
    "\r\n",
    "            <tag style='property_name: property_value'>\r\n",
    "            <label style='color:red;font-size:30px'>\r\n",
    "\r\n",
    "            If we have to use these properties several times then we have to write them \r\n",
    "        2. Internal\r\n",
    "            <head>\r\n",
    "                <style>\r\n",
    "                    h1, h4{\r\n",
    "                        color: red;\r\n",
    "                        font-style: italic;\r\n",
    "                    }\r\n",
    "                    .main{\r\n",
    "                        color: red;\r\n",
    "                        font-style: italic;\r\n",
    "                    }\r\n",
    "                    #id1{\r\n",
    "                        color: blue;\r\n",
    "                    }\r\n",
    "                </style>\r\n",
    "            </head>\r\n",
    "            <body>\r\n",
    "                <h1 class=\"main\">\r\n",
    "                <p id=\"id1\">\r\n",
    "                <h1 class='main'>\r\n",
    "                <h4 class=\"main\">\r\n",
    "                <h1>\r\n",
    "                <h4 class=\"main\">\r\n",
    "                <h4>\r\n",
    "            </body>\r\n",
    "\r\n",
    "            Id and classes \r\n",
    "                ID --> #\r\n",
    "                Class --> .\r\n",
    "        3. External"
   ],
   "metadata": {}
  },
  {
   "cell_type": "markdown",
   "source": [
    "    1. Margin\r\n",
    "    2. Padding "
   ],
   "metadata": {}
  },
  {
   "cell_type": "markdown",
   "source": [
    "    Form --> Full Name, Email, Password, Radio, Dropdown\r\n",
    "\r\n",
    "        Bootstrap documentation --> pick\r\n",
    "\r\n",
    "        Decorate it"
   ],
   "metadata": {}
  },
  {
   "cell_type": "markdown",
   "source": [],
   "metadata": {}
  }
 ],
 "metadata": {
  "kernelspec": {
   "display_name": "Python 3",
   "language": "python",
   "name": "python3"
  },
  "language_info": {
   "codemirror_mode": {
    "name": "ipython",
    "version": 3
   },
   "file_extension": ".py",
   "mimetype": "text/x-python",
   "name": "python",
   "nbconvert_exporter": "python",
   "pygments_lexer": "ipython3",
   "version": "3.8.8"
  }
 },
 "nbformat": 4,
 "nbformat_minor": 5
}