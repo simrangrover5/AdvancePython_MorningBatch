{
 "cells": [
  {
   "cell_type": "markdown",
   "id": "5bbe4aec",
   "metadata": {},
   "source": [
    "### 3 Types of Languages \n",
    "\n",
    "    1. Programming Language\n",
    "        Language which are used to perform some task by machine\n",
    "        java, c, c++, python\n",
    "        \n",
    "    2. Scripting Language\n",
    "        Client - Server Architecture\n",
    "        php, js, python, .net\n",
    "        \n",
    "    3. Markup Language\n",
    "        html, xml\n",
    "        HTML --> Hyper Text Markup Language --> Design\n",
    "        XML --> Extensible Markup Language --> Storage\n",
    "            You can create your own tags"
   ]
  },
  {
   "cell_type": "markdown",
   "id": "6705289a",
   "metadata": {},
   "source": [
    "### HTML \n",
    "\n",
    "    Hyper Text Markup Language \n",
    "    \n",
    "        files --> .html\n",
    "        app --> html file \n",
    "        \n",
    "    Tags \n",
    "    \n",
    "        opening tag --> <tagname>\n",
    "        closing tag --> </tagname> "
   ]
  },
  {
   "cell_type": "code",
   "execution_count": null,
   "id": "cabba494",
   "metadata": {},
   "outputs": [],
   "source": []
  }
 ],
 "metadata": {
  "kernelspec": {
   "display_name": "Python 3",
   "language": "python",
   "name": "python3"
  },
  "language_info": {
   "codemirror_mode": {
    "name": "ipython",
    "version": 3
   },
   "file_extension": ".py",
   "mimetype": "text/x-python",
   "name": "python",
   "nbconvert_exporter": "python",
   "pygments_lexer": "ipython3",
   "version": "3.8.8"
  }
 },
 "nbformat": 4,
 "nbformat_minor": 5
}
