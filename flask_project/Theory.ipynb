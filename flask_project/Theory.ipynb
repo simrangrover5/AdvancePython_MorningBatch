{
 "cells": [
  {
   "cell_type": "markdown",
   "source": [
    "    Framework\r\n",
    "\r\n",
    "            Set of instructions \r\n",
    "            Collection of library or it is a structure "
   ],
   "metadata": {}
  },
  {
   "cell_type": "markdown",
   "source": [
    "    CGI - Common Gateway Interface "
   ],
   "metadata": {}
  },
  {
   "cell_type": "markdown",
   "source": [
    "    Virtual Environment \r\n",
    "\r\n",
    "    Flask_project \r\n",
    "        1. Templates\r\n",
    "            html file\r\n",
    "        2. Static\r\n",
    "            css, js, bs, images etc \r\n",
    "        3. main.py (py --> backend)\r\n",
    "            run --> host, port \r\n",
    "                host --> localhost (domain, Ip --> 127.0.0.1)\r\n",
    "                port --> any available port\r\n",
    "\r\n",
    "\r\n",
    "        WSGI ??\r\n",
    "        JINJA ???\r\n",
    "        Application on flask?"
   ],
   "metadata": {}
  },
  {
   "cell_type": "markdown",
   "source": [],
   "metadata": {}
  }
 ],
 "metadata": {
  "orig_nbformat": 4,
  "language_info": {
   "name": "python"
  }
 },
 "nbformat": 4,
 "nbformat_minor": 2
}