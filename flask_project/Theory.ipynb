{
 "cells": [
  {
   "cell_type": "markdown",
   "source": [
    "    Framework\r\n",
    "\r\n",
    "            Set of instructions \r\n",
    "            Collection of library or it is a structure "
   ],
   "metadata": {}
  },
  {
   "cell_type": "markdown",
   "source": [
    "    CGI - Common Gateway Interface "
   ],
   "metadata": {}
  },
  {
   "cell_type": "markdown",
   "source": [
    "    Virtual Environment \r\n",
    "\r\n",
    "    Flask_project \r\n",
    "        1. Templates\r\n",
    "            html file\r\n",
    "        2. Static\r\n",
    "            css, js, bs, images etc \r\n",
    "        3. main.py (py --> backend)\r\n",
    "            run --> host, port \r\n",
    "                host --> localhost (domain, Ip --> 127.0.0.1)\r\n",
    "                port --> any available port\r\n",
    "\r\n",
    "\r\n",
    "        WSGI ??\r\n",
    "            Web Server Gateway Interface\r\n",
    "            Interface between server and web application\r\n",
    "            (ASGI)\r\n",
    "            Flask --> Werkzeug (WSGI)\r\n",
    "\r\n",
    "        JINJA ???\r\n",
    "            Language --> Syntax and rules \r\n",
    "            Python Templating Engine \r\n",
    "            html --> python\r\n",
    "        Application on flask?"
   ],
   "metadata": {}
  },
  {
   "cell_type": "markdown",
   "source": [
    "    JINJA Syntax\r\n",
    "\r\n",
    "        py file                         html file\r\n",
    "        name = 'simran'                    {{name}}\r\n",
    "\r\n",
    "\r\n",
    "    {% if condition %}\r\n",
    "    s1\r\n",
    "    s2\r\n",
    "    {% endif %}\r\n",
    "\r\n",
    "    {% if condition %}\r\n",
    "        s3\r\n",
    "        s4\r\n",
    "    {% else %}\r\n",
    "        s5\r\n",
    "    {% endif %}\r\n",
    "\r\n",
    "    {% if condition %}\r\n",
    "        s1\r\n",
    "        s2\r\n",
    "    {% elif condition %}\r\n",
    "        s3\r\n",
    "        s4\r\n",
    "    {% endif %}\r\n",
    "\r\n",
    "    {% for i in range(10) %}\r\n",
    "        s1\r\n",
    "        s2\r\n",
    "    {% endfor %}\r\n"
   ],
   "metadata": {}
  },
  {
   "cell_type": "markdown",
   "source": [
    "#### Session and Cookies \r\n",
    "\r\n",
    "        Temporary Information --> Session and Cookies \r\n",
    "\r\n",
    "                Cookies --> Client Side\r\n",
    "                            Not secure\r\n",
    "\r\n",
    "                Session --> Server Side\r\n",
    "                            Secure\r\n",
    "                            Time \r\n",
    "\r\n",
    "        Permanent Information --> Database \r\n"
   ],
   "metadata": {}
  },
  {
   "cell_type": "markdown",
   "source": [],
   "metadata": {}
  }
 ],
 "metadata": {
  "orig_nbformat": 4,
  "language_info": {
   "name": "python"
  }
 },
 "nbformat": 4,
 "nbformat_minor": 2
}